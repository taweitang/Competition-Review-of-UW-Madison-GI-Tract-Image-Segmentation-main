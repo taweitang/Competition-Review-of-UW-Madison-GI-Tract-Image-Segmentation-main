{
 "cells": [
  {
   "cell_type": "markdown",
   "id": "d2c33ca5",
   "metadata": {
    "papermill": {
     "duration": 0.030489,
     "end_time": "2022-07-14T05:30:16.671447",
     "exception": false,
     "start_time": "2022-07-14T05:30:16.640958",
     "status": "completed"
    },
    "tags": []
   },
   "source": [
    "Thanks [Yiheng Wang](https://www.kaggle.com/competitions/uw-madison-gi-tract-image-segmentation/discussion/325646)\n"
   ]
  },
  {
   "cell_type": "markdown",
   "id": "cf886921",
   "metadata": {
    "papermill": {
     "duration": 0.026684,
     "end_time": "2022-07-14T05:30:16.726116",
     "exception": false,
     "start_time": "2022-07-14T05:30:16.699432",
     "status": "completed"
    },
    "tags": []
   },
   "source": [
    "## Load Libs"
   ]
  },
  {
   "cell_type": "code",
   "execution_count": 1,
   "id": "7210aace",
   "metadata": {
    "execution": {
     "iopub.execute_input": "2022-07-14T05:30:16.775128Z",
     "iopub.status.busy": "2022-07-14T05:30:16.773514Z",
     "iopub.status.idle": "2022-07-14T05:30:16.784950Z",
     "shell.execute_reply": "2022-07-14T05:30:16.784427Z",
     "shell.execute_reply.started": "2022-07-10T02:08:57.579661Z"
    },
    "papermill": {
     "duration": 0.036786,
     "end_time": "2022-07-14T05:30:16.785105",
     "exception": false,
     "start_time": "2022-07-14T05:30:16.748319",
     "status": "completed"
    },
    "tags": []
   },
   "outputs": [],
   "source": [
    "import sys\n",
    "\n",
    "sys.path.append('../input/monai-v081/')"
   ]
  },
  {
   "cell_type": "code",
   "execution_count": 2,
   "id": "9ab6f37d",
   "metadata": {
    "execution": {
     "iopub.execute_input": "2022-07-14T05:30:16.834340Z",
     "iopub.status.busy": "2022-07-14T05:30:16.833470Z",
     "iopub.status.idle": "2022-07-14T05:30:24.611717Z",
     "shell.execute_reply": "2022-07-14T05:30:24.611127Z",
     "shell.execute_reply.started": "2022-07-10T02:08:57.606086Z"
    },
    "papermill": {
     "duration": 7.805139,
     "end_time": "2022-07-14T05:30:24.611873",
     "exception": false,
     "start_time": "2022-07-14T05:30:16.806734",
     "status": "completed"
    },
    "tags": []
   },
   "outputs": [],
   "source": [
    "import gc\n",
    "from glob import glob\n",
    "import os\n",
    "import numpy as np\n",
    "import pandas as pd\n",
    "import torch\n",
    "from torch import nn\n",
    "from monai.inferers import sliding_window_inference\n",
    "from monai.data import decollate_batch\n",
    "from monai.handlers.utils import from_engine\n",
    "from monai.networks.nets import UNet\n",
    "from torch.cuda.amp import GradScaler, autocast\n",
    "from tqdm import tqdm\n",
    "import json"
   ]
  },
  {
   "cell_type": "code",
   "execution_count": 3,
   "id": "81b6624d",
   "metadata": {
    "execution": {
     "iopub.execute_input": "2022-07-14T05:30:24.657711Z",
     "iopub.status.busy": "2022-07-14T05:30:24.656902Z",
     "iopub.status.idle": "2022-07-14T05:30:24.659243Z",
     "shell.execute_reply": "2022-07-14T05:30:24.659713Z",
     "shell.execute_reply.started": "2022-07-10T02:09:04.16316Z"
    },
    "papermill": {
     "duration": 0.028016,
     "end_time": "2022-07-14T05:30:24.659846",
     "exception": false,
     "start_time": "2022-07-14T05:30:24.631830",
     "status": "completed"
    },
    "tags": []
   },
   "outputs": [],
   "source": [
    "from monai.data import CacheDataset, DataLoader\n",
    "from monai.transforms import (\n",
    "    Compose,\n",
    "    Activations,\n",
    "    AsDiscrete,\n",
    "    Activationsd,\n",
    "    AsDiscreted,\n",
    "    KeepLargestConnectedComponentd,\n",
    "    Invertd,\n",
    "    LoadImage,\n",
    "    Transposed,\n",
    "    LoadImaged,\n",
    "    AddChanneld,\n",
    "    CastToTyped,\n",
    "    Lambdad,\n",
    "    Resized,\n",
    "    EnsureTyped,\n",
    "    SpatialPadd,\n",
    "    EnsureChannelFirstd,\n",
    ")"
   ]
  },
  {
   "cell_type": "markdown",
   "id": "ed593ac9",
   "metadata": {
    "papermill": {
     "duration": 0.019006,
     "end_time": "2022-07-14T05:30:24.698150",
     "exception": false,
     "start_time": "2022-07-14T05:30:24.679144",
     "status": "completed"
    },
    "tags": []
   },
   "source": [
    "## Prepare meta info."
   ]
  },
  {
   "cell_type": "markdown",
   "id": "6bc797fc",
   "metadata": {
    "papermill": {
     "duration": 0.020441,
     "end_time": "2022-07-14T05:30:24.738805",
     "exception": false,
     "start_time": "2022-07-14T05:30:24.718364",
     "status": "completed"
    },
    "tags": []
   },
   "source": [
    "### Thanks awsaf49, this section refers to:\n",
    "https://www.kaggle.com/code/awsaf49/uwmgi-2-5d-infer-pytorch"
   ]
  },
  {
   "cell_type": "code",
   "execution_count": 4,
   "id": "1249d136",
   "metadata": {
    "execution": {
     "iopub.execute_input": "2022-07-14T05:30:24.792341Z",
     "iopub.status.busy": "2022-07-14T05:30:24.790509Z",
     "iopub.status.idle": "2022-07-14T05:30:24.793005Z",
     "shell.execute_reply": "2022-07-14T05:30:24.793508Z",
     "shell.execute_reply.started": "2022-07-10T02:09:04.171828Z"
    },
    "papermill": {
     "duration": 0.034195,
     "end_time": "2022-07-14T05:30:24.793652",
     "exception": false,
     "start_time": "2022-07-14T05:30:24.759457",
     "status": "completed"
    },
    "tags": []
   },
   "outputs": [],
   "source": [
    "def get_metadata(row):\n",
    "    data = row['id'].split('_')\n",
    "    case = int(data[0].replace('case',''))\n",
    "    day = int(data[1].replace('day',''))\n",
    "    slice_ = int(data[-1])\n",
    "    row['case'] = case\n",
    "    row['day'] = day\n",
    "    row['slice'] = slice_\n",
    "    return row\n",
    "\n",
    "def path2info(row):\n",
    "    path = row['image_path']\n",
    "    data = path.split('/')\n",
    "    slice_ = int(data[-1].split('_')[1])\n",
    "    case = int(data[-3].split('_')[0].replace('case',''))\n",
    "    day = int(data[-3].split('_')[1].replace('day',''))\n",
    "    width = int(data[-1].split('_')[2])\n",
    "    height = int(data[-1].split('_')[3])\n",
    "    row['height'] = height\n",
    "    row['width'] = width\n",
    "    row['case'] = case\n",
    "    row['day'] = day\n",
    "    row['slice'] = slice_\n",
    "    return row"
   ]
  },
  {
   "cell_type": "code",
   "execution_count": 5,
   "id": "00656aae",
   "metadata": {
    "execution": {
     "iopub.execute_input": "2022-07-14T05:30:24.841300Z",
     "iopub.status.busy": "2022-07-14T05:30:24.840670Z",
     "iopub.status.idle": "2022-07-14T05:30:26.802306Z",
     "shell.execute_reply": "2022-07-14T05:30:26.801777Z",
     "shell.execute_reply.started": "2022-07-10T02:09:04.183248Z"
    },
    "papermill": {
     "duration": 1.988383,
     "end_time": "2022-07-14T05:30:26.802484",
     "exception": false,
     "start_time": "2022-07-14T05:30:24.814101",
     "status": "completed"
    },
    "tags": []
   },
   "outputs": [],
   "source": [
    "sub_df = pd.read_csv('../input/uw-madison-gi-tract-image-segmentation/sample_submission.csv')\n",
    "if not len(sub_df):\n",
    "    debug = True\n",
    "    sub_df = pd.read_csv('../input/uw-madison-gi-tract-image-segmentation/train.csv')[:1000*3]\n",
    "    sub_df = sub_df.drop(columns=['class','segmentation']).drop_duplicates()\n",
    "else:\n",
    "    debug = False\n",
    "    sub_df = sub_df.drop(columns=['class','predicted']).drop_duplicates()\n",
    "sub_df = sub_df.apply(lambda x: get_metadata(x),axis=1)"
   ]
  },
  {
   "cell_type": "code",
   "execution_count": 6,
   "id": "33ccd89d",
   "metadata": {
    "execution": {
     "iopub.execute_input": "2022-07-14T05:30:26.848863Z",
     "iopub.status.busy": "2022-07-14T05:30:26.848278Z",
     "iopub.status.idle": "2022-07-14T05:32:04.395137Z",
     "shell.execute_reply": "2022-07-14T05:32:04.395571Z",
     "shell.execute_reply.started": "2022-07-10T02:09:05.998616Z"
    },
    "papermill": {
     "duration": 97.571275,
     "end_time": "2022-07-14T05:32:04.395727",
     "exception": false,
     "start_time": "2022-07-14T05:30:26.824452",
     "status": "completed"
    },
    "tags": []
   },
   "outputs": [
    {
     "data": {
      "text/html": [
       "<div>\n",
       "<style scoped>\n",
       "    .dataframe tbody tr th:only-of-type {\n",
       "        vertical-align: middle;\n",
       "    }\n",
       "\n",
       "    .dataframe tbody tr th {\n",
       "        vertical-align: top;\n",
       "    }\n",
       "\n",
       "    .dataframe thead th {\n",
       "        text-align: right;\n",
       "    }\n",
       "</style>\n",
       "<table border=\"1\" class=\"dataframe\">\n",
       "  <thead>\n",
       "    <tr style=\"text-align: right;\">\n",
       "      <th></th>\n",
       "      <th>image_path</th>\n",
       "      <th>height</th>\n",
       "      <th>width</th>\n",
       "      <th>case</th>\n",
       "      <th>day</th>\n",
       "      <th>slice</th>\n",
       "    </tr>\n",
       "  </thead>\n",
       "  <tbody>\n",
       "    <tr>\n",
       "      <th>0</th>\n",
       "      <td>/kaggle/input/uw-madison-gi-tract-image-segmen...</td>\n",
       "      <td>266</td>\n",
       "      <td>266</td>\n",
       "      <td>36</td>\n",
       "      <td>14</td>\n",
       "      <td>6</td>\n",
       "    </tr>\n",
       "    <tr>\n",
       "      <th>1</th>\n",
       "      <td>/kaggle/input/uw-madison-gi-tract-image-segmen...</td>\n",
       "      <td>266</td>\n",
       "      <td>266</td>\n",
       "      <td>36</td>\n",
       "      <td>14</td>\n",
       "      <td>82</td>\n",
       "    </tr>\n",
       "    <tr>\n",
       "      <th>2</th>\n",
       "      <td>/kaggle/input/uw-madison-gi-tract-image-segmen...</td>\n",
       "      <td>266</td>\n",
       "      <td>266</td>\n",
       "      <td>36</td>\n",
       "      <td>14</td>\n",
       "      <td>113</td>\n",
       "    </tr>\n",
       "    <tr>\n",
       "      <th>3</th>\n",
       "      <td>/kaggle/input/uw-madison-gi-tract-image-segmen...</td>\n",
       "      <td>266</td>\n",
       "      <td>266</td>\n",
       "      <td>36</td>\n",
       "      <td>14</td>\n",
       "      <td>76</td>\n",
       "    </tr>\n",
       "    <tr>\n",
       "      <th>4</th>\n",
       "      <td>/kaggle/input/uw-madison-gi-tract-image-segmen...</td>\n",
       "      <td>266</td>\n",
       "      <td>266</td>\n",
       "      <td>36</td>\n",
       "      <td>14</td>\n",
       "      <td>125</td>\n",
       "    </tr>\n",
       "  </tbody>\n",
       "</table>\n",
       "</div>"
      ],
      "text/plain": [
       "                                          image_path  height  width  case  \\\n",
       "0  /kaggle/input/uw-madison-gi-tract-image-segmen...     266    266    36   \n",
       "1  /kaggle/input/uw-madison-gi-tract-image-segmen...     266    266    36   \n",
       "2  /kaggle/input/uw-madison-gi-tract-image-segmen...     266    266    36   \n",
       "3  /kaggle/input/uw-madison-gi-tract-image-segmen...     266    266    36   \n",
       "4  /kaggle/input/uw-madison-gi-tract-image-segmen...     266    266    36   \n",
       "\n",
       "   day  slice  \n",
       "0   14      6  \n",
       "1   14     82  \n",
       "2   14    113  \n",
       "3   14     76  \n",
       "4   14    125  "
      ]
     },
     "execution_count": 6,
     "metadata": {},
     "output_type": "execute_result"
    }
   ],
   "source": [
    "if debug:\n",
    "    paths = glob(f'/kaggle/input/uw-madison-gi-tract-image-segmentation/train/**/*png',recursive=True)\n",
    "#     paths = sorted(paths)\n",
    "else:\n",
    "    paths = glob(f'/kaggle/input/uw-madison-gi-tract-image-segmentation/test/**/*png',recursive=True)\n",
    "#     paths = sorted(paths)\n",
    "path_df = pd.DataFrame(paths, columns=['image_path'])\n",
    "path_df = path_df.apply(lambda x: path2info(x),axis=1)\n",
    "path_df.head()"
   ]
  },
  {
   "cell_type": "markdown",
   "id": "1440dff7",
   "metadata": {
    "papermill": {
     "duration": 0.019809,
     "end_time": "2022-07-14T05:32:04.435448",
     "exception": false,
     "start_time": "2022-07-14T05:32:04.415639",
     "status": "completed"
    },
    "tags": []
   },
   "source": [
    "## Produce 3d data list for MONAI DataSet"
   ]
  },
  {
   "cell_type": "code",
   "execution_count": 7,
   "id": "84300a1c",
   "metadata": {
    "execution": {
     "iopub.execute_input": "2022-07-14T05:32:04.483158Z",
     "iopub.status.busy": "2022-07-14T05:32:04.482293Z",
     "iopub.status.idle": "2022-07-14T05:32:04.506154Z",
     "shell.execute_reply": "2022-07-14T05:32:04.505716Z",
     "shell.execute_reply.started": "2022-07-10T02:10:38.373127Z"
    },
    "papermill": {
     "duration": 0.051171,
     "end_time": "2022-07-14T05:32:04.506276",
     "exception": false,
     "start_time": "2022-07-14T05:32:04.455105",
     "status": "completed"
    },
    "tags": []
   },
   "outputs": [],
   "source": [
    "test_df = sub_df.merge(path_df, on=['case','day','slice'], how='left')\n",
    "test_df[\"case_id_str\"] = test_df[\"id\"].apply(lambda x: x.split(\"_\", 2)[0])\n",
    "test_df[\"day_num_str\"] = test_df[\"id\"].apply(lambda x: x.split(\"_\", 2)[1])\n",
    "test_df[\"slice_id\"] = test_df[\"id\"].apply(lambda x: x.split(\"_\", 2)[2])"
   ]
  },
  {
   "cell_type": "code",
   "execution_count": 8,
   "id": "129fc38f",
   "metadata": {
    "execution": {
     "iopub.execute_input": "2022-07-14T05:32:04.552924Z",
     "iopub.status.busy": "2022-07-14T05:32:04.552356Z",
     "iopub.status.idle": "2022-07-14T05:32:04.682833Z",
     "shell.execute_reply": "2022-07-14T05:32:04.682331Z",
     "shell.execute_reply.started": "2022-07-10T02:10:38.401177Z"
    },
    "papermill": {
     "duration": 0.156704,
     "end_time": "2022-07-14T05:32:04.682952",
     "exception": false,
     "start_time": "2022-07-14T05:32:04.526248",
     "status": "completed"
    },
    "tags": []
   },
   "outputs": [],
   "source": [
    "test_data = []\n",
    "\n",
    "for group in test_df.groupby([\"case_id_str\", \"day_num_str\"]):\n",
    "\n",
    "    case_id_str, day_num_str = group[0]\n",
    "    group_id = case_id_str + \"_\" + day_num_str\n",
    "    group_df = group[1].sort_values(\"slice_id\", ascending=True)\n",
    "    n_slices = group_df.shape[0]\n",
    "    group_slices, group_ids = [], []\n",
    "    for idx in range(n_slices):\n",
    "        slc = group_df.iloc[idx]\n",
    "        group_slices.append(slc.image_path)\n",
    "        group_ids.append(slc.id)\n",
    "    test_data.append({\"image\": group_slices, \"id\": group_ids})"
   ]
  },
  {
   "cell_type": "markdown",
   "id": "9ae04761",
   "metadata": {
    "papermill": {
     "duration": 0.018707,
     "end_time": "2022-07-14T05:32:04.720368",
     "exception": false,
     "start_time": "2022-07-14T05:32:04.701661",
     "status": "completed"
    },
    "tags": []
   },
   "source": [
    "## Prepare Transforms, Dataset, DataLoader"
   ]
  },
  {
   "cell_type": "code",
   "execution_count": 9,
   "id": "022cab5e",
   "metadata": {
    "execution": {
     "iopub.execute_input": "2022-07-14T05:32:04.762347Z",
     "iopub.status.busy": "2022-07-14T05:32:04.761539Z",
     "iopub.status.idle": "2022-07-14T05:32:04.820091Z",
     "shell.execute_reply": "2022-07-14T05:32:04.819573Z",
     "shell.execute_reply.started": "2022-07-10T02:10:38.538004Z"
    },
    "papermill": {
     "duration": 0.080529,
     "end_time": "2022-07-14T05:32:04.820221",
     "exception": false,
     "start_time": "2022-07-14T05:32:04.739692",
     "status": "completed"
    },
    "tags": []
   },
   "outputs": [],
   "source": [
    "class cfg:\n",
    "    img_size = (224, 224, 80)\n",
    "    in_channels = 1\n",
    "    out_channels = 3\n",
    "    device = torch.device(\"cuda:0\" if torch.cuda.is_available() else \"cpu\")\n",
    "    weights = ['../input/uwmadison-gi-tract-image-segmentation-weights/best_weights_fold_0.pth', '../input/uwmadison-gi-tract-image-segmentation-weights/best_weights_fold_1.pth',\n",
    "               '../input/uwmadison-gi-tract-image-segmentation-weights/best_weights_fold_2.pth','../input/uwmadison-gi-tract-image-segmentation-weights/best_weights_fold_3.pth',\n",
    "               '../input/uwmadison-gi-tract-image-segmentation-weights/best_weights_fold_4.pth']\n",
    "    batch_size = 1\n",
    "    sw_batch_size = 4"
   ]
  },
  {
   "cell_type": "code",
   "execution_count": 10,
   "id": "ec9803c8",
   "metadata": {
    "execution": {
     "iopub.execute_input": "2022-07-14T05:32:04.862200Z",
     "iopub.status.busy": "2022-07-14T05:32:04.861363Z",
     "iopub.status.idle": "2022-07-14T05:32:04.871316Z",
     "shell.execute_reply": "2022-07-14T05:32:04.870774Z",
     "shell.execute_reply.started": "2022-07-10T02:10:38.603123Z"
    },
    "papermill": {
     "duration": 0.031768,
     "end_time": "2022-07-14T05:32:04.871478",
     "exception": false,
     "start_time": "2022-07-14T05:32:04.839710",
     "status": "completed"
    },
    "tags": []
   },
   "outputs": [],
   "source": [
    "test_transforms = Compose(\n",
    "    [\n",
    "        LoadImaged(keys=\"image\"), # d, h, w\n",
    "        AddChanneld(keys=\"image\"), # c, d, h, w\n",
    "        Transposed(keys=\"image\", indices=[0, 2, 3, 1]), # c, w, h, d\n",
    "        Lambdad(keys=\"image\", func=lambda x: x / x.max()),\n",
    "#         SpatialPadd(keys=\"image\", spatial_size=cfg.img_size),  # in case less than 80 slices\n",
    "        EnsureTyped(keys=\"image\", dtype=torch.float32),\n",
    "    ]\n",
    ")\n",
    "\n",
    "test_ds = CacheDataset(\n",
    "        data=test_data,\n",
    "        transform=test_transforms,\n",
    "        cache_rate=0.0,\n",
    "        num_workers=2,\n",
    "    )\n",
    "\n",
    "test_dataloader = DataLoader(\n",
    "    test_ds,\n",
    "    batch_size=cfg.batch_size,\n",
    "    num_workers=2,\n",
    "    pin_memory=True,\n",
    ")"
   ]
  },
  {
   "cell_type": "markdown",
   "id": "e15d480d",
   "metadata": {
    "papermill": {
     "duration": 0.018447,
     "end_time": "2022-07-14T05:32:04.909196",
     "exception": false,
     "start_time": "2022-07-14T05:32:04.890749",
     "status": "completed"
    },
    "tags": []
   },
   "source": [
    "## Prepare Network"
   ]
  },
  {
   "cell_type": "code",
   "execution_count": 11,
   "id": "25c264fa",
   "metadata": {
    "execution": {
     "iopub.execute_input": "2022-07-14T05:32:04.956582Z",
     "iopub.status.busy": "2022-07-14T05:32:04.955884Z",
     "iopub.status.idle": "2022-07-14T05:32:08.560924Z",
     "shell.execute_reply": "2022-07-14T05:32:08.560194Z",
     "shell.execute_reply.started": "2022-07-10T02:10:38.617877Z"
    },
    "papermill": {
     "duration": 3.633259,
     "end_time": "2022-07-14T05:32:08.561115",
     "exception": false,
     "start_time": "2022-07-14T05:32:04.927856",
     "status": "completed"
    },
    "tags": []
   },
   "outputs": [],
   "source": [
    "model = UNet(\n",
    "    spatial_dims=3,\n",
    "    in_channels=cfg.in_channels,\n",
    "    out_channels=cfg.out_channels,\n",
    "    channels=(32, 64, 128, 256, 512),\n",
    "    strides=(2, 2, 2, 2),\n",
    "    kernel_size=3,\n",
    "    up_kernel_size=3,\n",
    "    num_res_units=2,\n",
    "    act=\"PRELU\",\n",
    "    norm=\"BATCH\",\n",
    "    dropout=0.2,\n",
    "    bias=True,\n",
    "    dimensions=None,\n",
    ").to(cfg.device)"
   ]
  },
  {
   "cell_type": "markdown",
   "id": "2c927805",
   "metadata": {
    "papermill": {
     "duration": 0.030889,
     "end_time": "2022-07-14T05:32:08.622729",
     "exception": false,
     "start_time": "2022-07-14T05:32:08.591840",
     "status": "completed"
    },
    "tags": []
   },
   "source": [
    "## Infer"
   ]
  },
  {
   "cell_type": "code",
   "execution_count": 12,
   "id": "417f41b7",
   "metadata": {
    "execution": {
     "iopub.execute_input": "2022-07-14T05:32:08.694285Z",
     "iopub.status.busy": "2022-07-14T05:32:08.692796Z",
     "iopub.status.idle": "2022-07-14T05:32:08.695867Z",
     "shell.execute_reply": "2022-07-14T05:32:08.695196Z",
     "shell.execute_reply.started": "2022-07-10T02:10:42.06104Z"
    },
    "papermill": {
     "duration": 0.041548,
     "end_time": "2022-07-14T05:32:08.696025",
     "exception": false,
     "start_time": "2022-07-14T05:32:08.654477",
     "status": "completed"
    },
    "tags": []
   },
   "outputs": [],
   "source": [
    "# ref.: https://www.kaggle.com/stainsby/fast-tested-rle\n",
    "def rle_encode(img):\n",
    "    \"\"\" TBD\n",
    "    \n",
    "    Args:\n",
    "        img (np.array): \n",
    "            - 1 indicating mask\n",
    "            - 0 indicating background\n",
    "    \n",
    "    Returns: \n",
    "        run length as string formated\n",
    "    \"\"\"\n",
    "    \n",
    "    pixels = img.flatten()\n",
    "    pixels = np.concatenate([[0], pixels, [0]])\n",
    "    runs = np.where(pixels[1:] != pixels[:-1])[0] + 1\n",
    "    runs[1::2] -= runs[::2]\n",
    "    return ' '.join(str(x) for x in runs)"
   ]
  },
  {
   "cell_type": "code",
   "execution_count": null,
   "id": "c8667961",
   "metadata": {
    "execution": {
     "iopub.execute_input": "2022-07-14T05:32:08.790548Z",
     "iopub.status.busy": "2022-07-14T05:32:08.788930Z",
     "iopub.status.idle": "2022-07-14T05:33:43.668750Z",
     "shell.execute_reply": "2022-07-14T05:33:43.668266Z",
     "shell.execute_reply.started": "2022-07-10T02:10:42.074829Z"
    },
    "papermill": {
     "duration": 94.936427,
     "end_time": "2022-07-14T05:33:43.668880",
     "exception": false,
     "start_time": "2022-07-14T05:32:08.732453",
     "status": "completed"
    },
    "tags": []
   },
   "outputs": [],
   "source": [
    "outputs = []\n",
    "\n",
    "post_pred = Compose([\n",
    "    Activations(sigmoid=True),\n",
    "    AsDiscrete(threshold=0.5),\n",
    "])\n",
    "\n",
    "model.eval()\n",
    "torch.set_grad_enabled(False)\n",
    "progress_bar = tqdm(range(len(test_dataloader)))\n",
    "val_it = iter(test_dataloader)\n",
    "for itr in progress_bar:\n",
    "    batch = next(val_it)\n",
    "    test_inputs = batch[\"image\"].to(cfg.device)\n",
    "\n",
    "    pred_all = []\n",
    "    for weights in cfg.weights:\n",
    "        model.load_state_dict(torch.load(weights)['model'])\n",
    "        pred = sliding_window_inference(test_inputs, cfg.img_size, cfg.sw_batch_size, model)\n",
    "        pred_all.append(pred)\n",
    "        # do 4 tta\n",
    "        for dims in [[2], [3], [2, 3]]:\n",
    "            flip_pred = sliding_window_inference(torch.flip(test_inputs, dims=dims), cfg.img_size, cfg.sw_batch_size, model)\n",
    "            flip_pred = torch.flip(flip_pred, dims=dims)\n",
    "            pred_all.append(flip_pred)\n",
    "    \n",
    "    pred_all = torch.mean(torch.stack(pred_all), dim=0)[0]\n",
    "    pred_all = post_pred(pred_all)\n",
    "    # c, w, h, d to d, c, h, w\n",
    "    pred_all = torch.permute(pred_all, [3, 0, 2, 1]).cpu().numpy().astype(np.uint8)\n",
    "    id_outputs = from_engine([\"id\"])(batch)[0]\n",
    "\n",
    "    for test_output, id_output in zip(pred_all, id_outputs):\n",
    "        id_name = id_output[0]\n",
    "        lb, sb, st = test_output\n",
    "        outputs.append([id_name, \"large_bowel\", rle_encode(lb)])\n",
    "        outputs.append([id_name, \"small_bowel\", rle_encode(sb)])\n",
    "        outputs.append([id_name, \"stomach\", rle_encode(st)])\n"
   ]
  },
  {
   "cell_type": "code",
   "execution_count": 14,
   "id": "f0fe3944",
   "metadata": {
    "execution": {
     "iopub.execute_input": "2022-07-14T05:33:43.777349Z",
     "iopub.status.busy": "2022-07-14T05:33:43.776758Z",
     "iopub.status.idle": "2022-07-14T05:33:43.781023Z",
     "shell.execute_reply": "2022-07-14T05:33:43.780554Z",
     "shell.execute_reply.started": "2022-07-10T02:12:34.58922Z"
    },
    "papermill": {
     "duration": 0.089978,
     "end_time": "2022-07-14T05:33:43.781143",
     "exception": false,
     "start_time": "2022-07-14T05:33:43.691165",
     "status": "completed"
    },
    "tags": []
   },
   "outputs": [],
   "source": [
    "submit = pd.DataFrame(data=np.array(outputs), columns=[\"id\", \"class\", \"predicted\"])"
   ]
  },
  {
   "cell_type": "code",
   "execution_count": 15,
   "id": "82b58473",
   "metadata": {
    "execution": {
     "iopub.execute_input": "2022-07-14T05:33:43.833752Z",
     "iopub.status.busy": "2022-07-14T05:33:43.832832Z",
     "iopub.status.idle": "2022-07-14T05:33:43.863150Z",
     "shell.execute_reply": "2022-07-14T05:33:43.862669Z",
     "shell.execute_reply.started": "2022-07-10T02:12:34.650998Z"
    },
    "papermill": {
     "duration": 0.059394,
     "end_time": "2022-07-14T05:33:43.863261",
     "exception": false,
     "start_time": "2022-07-14T05:33:43.803867",
     "status": "completed"
    },
    "tags": []
   },
   "outputs": [],
   "source": [
    "# Fix sub error, refers to: https://www.kaggle.com/competitions/uw-madison-gi-tract-image-segmentation/discussion/320541\n",
    "if not debug:\n",
    "    sub_df = pd.read_csv('../input/uw-madison-gi-tract-image-segmentation/sample_submission.csv')\n",
    "    del sub_df['predicted']\n",
    "    sub_df = sub_df.merge(submit, on=['id','class'])\n",
    "    sub_df.to_csv('submission.csv',index=False)\n",
    "else:\n",
    "    submit.to_csv('submission.csv', index=False)"
   ]
  },
  {
   "cell_type": "code",
   "execution_count": null,
   "id": "3b6f84a9",
   "metadata": {
    "papermill": {
     "duration": 0.021792,
     "end_time": "2022-07-14T05:33:43.906987",
     "exception": false,
     "start_time": "2022-07-14T05:33:43.885195",
     "status": "completed"
    },
    "tags": []
   },
   "outputs": [],
   "source": []
  }
 ],
 "metadata": {
  "kernelspec": {
   "display_name": "Python 3",
   "language": "python",
   "name": "python3"
  },
  "language_info": {
   "codemirror_mode": {
    "name": "ipython",
    "version": 3
   },
   "file_extension": ".py",
   "mimetype": "text/x-python",
   "name": "python",
   "nbconvert_exporter": "python",
   "pygments_lexer": "ipython3",
   "version": "3.7.12"
  },
  "papermill": {
   "default_parameters": {},
   "duration": 218.509395,
   "end_time": "2022-07-14T05:33:46.467734",
   "environment_variables": {},
   "exception": null,
   "input_path": "__notebook__.ipynb",
   "output_path": "__notebook__.ipynb",
   "parameters": {},
   "start_time": "2022-07-14T05:30:07.958339",
   "version": "2.3.3"
  }
 },
 "nbformat": 4,
 "nbformat_minor": 5
}
